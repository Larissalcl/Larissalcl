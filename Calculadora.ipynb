{
  "cells": [
    {
      "cell_type": "markdown",
      "metadata": {
        "id": "view-in-github",
        "colab_type": "text"
      },
      "source": [
        "<a href=\"https://colab.research.google.com/github/Larissalcl/Larissalcl/blob/main/Calculadora.ipynb\" target=\"_parent\"><img src=\"https://colab.research.google.com/assets/colab-badge.svg\" alt=\"Open In Colab\"/></a>"
      ]
    },
    {
      "cell_type": "code",
      "execution_count": null,
      "metadata": {
        "id": "FuY34DwlBzXV"
      },
      "outputs": [],
      "source": [
        "# receber um operador\n",
        "# receber um número\n",
        "# receber um outro número\n",
        "# mostrar o resultado"
      ]
    },
    {
      "cell_type": "code",
      "execution_count": null,
      "metadata": {
        "colab": {
          "base_uri": "https://localhost:8080/"
        },
        "id": "tIVzKRylCIcp",
        "outputId": "9be4ebfe-f425-4060-80fc-9ee1270ba582"
      },
      "outputs": [
        {
          "name": "stdout",
          "output_type": "stream",
          "text": [
            "Qual operação desejada? Escolha entre as seguintes opções:\n",
            "  \"+\" para soma\n",
            "  \"-\" para subtração\n",
            "  \"*\" para multiplicação\n",
            "  \"/\" para divisão\n",
            "  \"sair\" para sair\n",
            "  Operacao= +\n",
            "Digite o número: 2\n",
            "Digite o número:2\n",
            "4\n",
            "Qual operação desejada? Escolha entre as seguintes opções:\n",
            "  \"+\" para soma\n",
            "  \"-\" para subtração\n",
            "  \"*\" para multiplicação\n",
            "  \"/\" para divisão\n",
            "  \"sair\" para sair\n",
            "  Operacao= sair\n"
          ]
        }
      ],
      "source": [
        "while True:\n",
        "  operacao = input ('''Qual operação desejada? Escolha entre as seguintes opções:\n",
        "  \"+\" para soma\n",
        "  \"-\" para subtração\n",
        "  \"*\" para multiplicação\n",
        "  \"/\" para divisão\n",
        "  \"sair\" para sair\n",
        "  Operacao= ''')\n",
        "  if operacao == \"sair\":\n",
        "   break\n",
        "  número1 = int(input(\"Digite o número: \"))\n",
        "  número2 = int(input(\"Digite o número:\"))\n",
        "  if operacao == \"+\":\n",
        "    resultado = número1 + número2\n",
        "    print (resultado)\n",
        "  elif operacao == \"-\":\n",
        "    resultado = número1 - número2\n",
        "    print (resultado)\n",
        "  elif operacao == \"*\":\n",
        "    resultado = número1 * número2\n",
        "    print (resultado)\n",
        "  elif operacao == \"/\":\n",
        "    resultado = número1 / número2\n",
        "    print (resultado)\n",
        "  else:\n",
        "    print(\"operador inválido\")"
      ]
    },
    {
      "cell_type": "code",
      "execution_count": null,
      "metadata": {
        "id": "uMI4EsKDD4Pf"
      },
      "outputs": [],
      "source": []
    }
  ],
  "metadata": {
    "colab": {
      "provenance": [],
      "authorship_tag": "ABX9TyNKD9I/IerZ10gDuCX/7Yl0",
      "include_colab_link": true
    },
    "kernelspec": {
      "display_name": "Python 3",
      "name": "python3"
    },
    "language_info": {
      "name": "python"
    }
  },
  "nbformat": 4,
  "nbformat_minor": 0
}